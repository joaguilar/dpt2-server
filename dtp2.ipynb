{
 "cells": [
  {
   "cell_type": "code",
   "execution_count": 16,
   "id": "3df5cc23",
   "metadata": {},
   "outputs": [],
   "source": [
    "import torch\n",
    "import random\n",
    "from transformers import AutoModel, AutoTokenizer, AutoModelForCausalLM"
   ]
  },
  {
   "cell_type": "code",
   "execution_count": 2,
   "id": "3b363fe8",
   "metadata": {},
   "outputs": [],
   "source": [
    "from transformers import logging\n",
    "from transformers import GPT2TokenizerFast, GPT2LMHeadModel\n",
    "from tokenizers import ByteLevelBPETokenizer\n",
    "logging.set_verbosity_warning()"
   ]
  },
  {
   "cell_type": "code",
   "execution_count": 4,
   "id": "e1517377",
   "metadata": {},
   "outputs": [
    {
     "name": "stdout",
     "output_type": "stream",
     "text": [
      "MPS: True\n",
      "Using device: cpu\n"
     ]
    }
   ],
   "source": [
    "device = 'cpu'\n",
    "if (torch.backends.mps.is_available()):\n",
    "    print('MPS: ' + str(torch.backends.mps.is_available()))\n",
    "    device = 'mps'\n",
    "if (torch.cuda.is_available()):\n",
    "    print('CUDA: ' + str(torch.cuda.is_available()))\n",
    "    device = 'cuda'\n",
    "device = 'cpu'\n",
    "print('Using device: '+device)\n"
   ]
  },
  {
   "cell_type": "code",
   "execution_count": 5,
   "id": "85ac1147",
   "metadata": {},
   "outputs": [],
   "source": [
    "# spt_model  = AutoModelForCausalLM.from_pretrained(\"datificate/gpt2-small-spanish\")"
   ]
  },
  {
   "cell_type": "code",
   "execution_count": 6,
   "id": "ddbcf5a9",
   "metadata": {},
   "outputs": [],
   "source": [
    "# model_diputados = torch.load('./model/gpt2-small-diputados/pytorch_model.bin')\n",
    "model_diputados = GPT2LMHeadModel.from_pretrained('./model/gpt2-small-diputados')\n",
    "# tokenizer_diputados = ByteLevelBPETokenizer.from_pretrained('./model/gpt2-small-diputados')\n",
    "\n",
    "tokenizer_diputados = GPT2TokenizerFast.from_pretrained(\n",
    "    str('./model/ByteLevelBPE_tokenizer_es'), \n",
    "    pad_token='<|endoftext|>')\n",
    "tokenizer_diputados.model_max_length = 1024\n",
    "\n",
    "# model_diputados.lm_head.weight = spt_model.transformer.wte.weight"
   ]
  },
  {
   "cell_type": "code",
   "execution_count": 7,
   "id": "4322a534",
   "metadata": {},
   "outputs": [
    {
     "name": "stdout",
     "output_type": "stream",
     "text": [
      "True\n"
     ]
    }
   ],
   "source": [
    "print(torch.backends.mps.is_available())\n"
   ]
  },
  {
   "cell_type": "code",
   "execution_count": 8,
   "id": "b7cb5caa",
   "metadata": {},
   "outputs": [
    {
     "data": {
      "text/plain": [
       "Linear(in_features=768, out_features=50257, bias=False)"
      ]
     },
     "execution_count": 8,
     "metadata": {},
     "output_type": "execute_result"
    }
   ],
   "source": [
    "model_diputados.lm_head"
   ]
  },
  {
   "cell_type": "code",
   "execution_count": 9,
   "id": "f875f198",
   "metadata": {},
   "outputs": [],
   "source": [
    "top_k = 50\n",
    "\n",
    "model_diputados.eval();\n",
    "model_diputados.to(device);"
   ]
  },
  {
   "cell_type": "code",
   "execution_count": 12,
   "id": "c453eb8a",
   "metadata": {},
   "outputs": [
    {
     "name": "stdout",
     "output_type": "stream",
     "text": [
      "torch.Size([1, 75])\n",
      "torch.Size([1, 75])\n",
      "75\n"
     ]
    }
   ],
   "source": [
    "text = 'En las últimas semanas hemos visitado varias zonas de Cartago y hemos visto el lamentable, por no decir vergonzoso, estado de las carreteras. Hablo de gente que debe lidiar con presas eternas, agricultores que se juegan la vida para sacar sus productos, de niños que no pueden llegar a tiempo a sus escuelas. Hablo de personas que se sienten olvidadas por sus gobiernos desde hace muchos años atrás.'\n",
    "input_ids = tokenizer_diputados.encode(text, return_tensors=\"pt\").to(device)\n",
    "print(input_ids.shape)\n",
    "max_length = input_ids.shape[1]\n",
    "flat_input_ids = torch.flatten(input_ids,start_dim = 1)\n",
    "print(flat_input_ids.shape)\n",
    "\n",
    "print(max_length)"
   ]
  },
  {
   "cell_type": "code",
   "execution_count": 13,
   "id": "6da0aba6",
   "metadata": {},
   "outputs": [],
   "source": [
    "textos = model_diputados.generate(input_ids, pad_token_id=50256,\n",
    "                                   do_sample=True, \n",
    "                                   max_length=400, \n",
    "                                   min_length=400,\n",
    "                                   top_k=50,\n",
    "                                   num_return_sequences=10)"
   ]
  },
  {
   "cell_type": "code",
   "execution_count": 17,
   "id": "17e474d4",
   "metadata": {},
   "outputs": [
    {
     "name": "stdout",
     "output_type": "stream",
     "text": [
      ">> Generated text 1\n",
      "\n",
      "En las últimas semanas hemos visitado varias zonas de Cartago y hemos visto el lamentable, por no decir vergonzoso, estado de las carreteras. Hablo de gente que debe lidiar con presas eternas, agricultores que se juegan la vida para sacar sus productos, de niños que no pueden llegar a tiempo a sus escuelas. Hablo de personas que se sienten olvidadas por sus gobiernos desde hace muchos años atrás.\n",
      "Yo les pido de verdad que apoyemos esta iniciativa y que lo demos, me llena de regocijo. Realmente el corazón tiene que ver con el corazón.Acta de la sesión plenaria ordinaria N\n",
      ".º\n",
      " 49\n",
      "Lunes 13 de agosto de 2018\n",
      "Primer período de sesiones ordinarias\n",
      "Primera legislaturaDiputado Pablo Heriberto Abarca Mora:\n",
      "Gracias, presidente.\n",
      "El diputado Abarca presentó un proyecto de ley de forma tal que va a ser un gran logro de algunas fracciones, aquí se quiere poner la palabra para tratar de mejorarlo, y para tratar de mejorarlo.\n",
      "Se quiere también poner una moción de censura que es la forma de tratar de modificar o modificar. Ese es el punto.\n",
      "Si uno quiere que en un país en pobreza hay tres provincias que yo puedo pedir aquí, eso es el punto.\n",
      "O si dos provincias está en pobreza y en pobreza, porque no tiene problema, porque las municipalidades tienen una capacidad, tienen una mentalidad, tienen un proceso de competencia.\n",
      "Por otro lado voy a votar una moción del diputado Abarca y se ha hablado, porque de ese período de sesiones extraordinarias, de un \n",
      "megamoción\n",
      ", de ese informe de mayoría, que es una moción que no quiere que en un país en pobreza todavía haya una orden de los cuatro mil millones de dólares y que de ese año las municipalidades no lo pueden hacer.\n",
      "Quiero hacer un llamado a las compañeras diputadas, sobre el punto que va a votar, para que se refiera un poco. Y para que la próxima semana los \n",
      "cen-cinai\n",
      " no podrán, por no decir eso; es decir, los cien días, las empresas, hay un treinta\n",
      "\n",
      "---\n",
      ">> Generated text 2\n",
      "\n",
      "En las últimas semanas hemos visitado varias zonas de Cartago y hemos visto el lamentable, por no decir vergonzoso, estado de las carreteras. Hablo de gente que debe lidiar con presas eternas, agricultores que se juegan la vida para sacar sus productos, de niños que no pueden llegar a tiempo a sus escuelas. Hablo de personas que se sienten olvidadas por sus gobiernos desde hace muchos años atrás. Y como decimos en Guanacaste, este tipo de comunidades que quieren luchar por la paz, el mejoramiento de la seguridad y evitar la contaminación, el abandono de la inseguridad y evitar la contaminación.Vamos a ir adelante y este tipo de manifestaciones tan lamentables no tienen respuesta, ni siquiera la hemos tenido que tomar en consideración. Y vamos también a dar las respuestas del señor Carlos Alvarado.Gracias.\n",
      "Sesión plenaria extraordinaria N.º 54 del jueves 27 de enero de 2022\n",
      "Intervención por el ordenDiputada Patricia Villegas Álvarez:Muy buenas tardes, señora presidenta.Al no decir que no voy a hablar más con respecto al tema de la seguridad ciudadana, no voy a hablar nada más con respecto a ese tema, yo creo que también que el día de hoy no se debería de poner un ejemplo de una forma de poder mejorar un texto que realmente venga y esté resuelto para una vida que realmente es un tema de los costarricenses, que es un tema de la vida.Desde ese punto de vista, debemos entender que si un diputado o una diputada, un diputado que, si se va a poner a disposición de algún compañero, podría llegar a llamar a que sea un tema de salud digna, que no podemos dejar pasar también por algo por alguna razón no significa que un tema como el tema del cuidado que se ha explicado en otras ocasiones es un tema de salud.Yo no puedo quedarme callado porque, además, quiero decirle que yo quiero manifestar mi preocupación y me ha llamado a las compañeras diputadas de los diputados que, ante un acto de fe, en el cual estamos dispuestos a dar una señal de un tema que no se debe levantar, un tema que no es para\n",
      "\n",
      "---\n",
      ">> Generated text 3\n",
      "\n",
      "En las últimas semanas hemos visitado varias zonas de Cartago y hemos visto el lamentable, por no decir vergonzoso, estado de las carreteras. Hablo de gente que debe lidiar con presas eternas, agricultores que se juegan la vida para sacar sus productos, de niños que no pueden llegar a tiempo a sus escuelas. Hablo de personas que se sienten olvidadas por sus gobiernos desde hace muchos años atrás.  Hay mucho por hablar de los puentes, que no solo nos debemos de llamar, compañeros, hablar del puente invaden el puente con el país.  Qué lindo que tenemos que llamar y qué lindo que no nos debemos de llamar a la cordura, porque si a ellos se les va a llamar un puente con el país, con un puente que no ha tenido la paz en Limón en un río de primer mundo que es lo más caro.  Esto es tierra.Yo quiero, compañeros, que reflexionemos, ya los ministros, lo hemos dicho, pero no se vale.Muchas gracias.Intervención por el ordenDiputado Melvin Ángel Núñez Piña:Gracias, presidente.Yo nada más quería reiterar eso también.  Tengo que decir, yo quiero, por otro lado, los diputados que votaron en contra una moción que sí la va a hacer el diputado Erick, pero también voy a dejar a las personas que votaron esta moción, porque hay algo aquí en mis manos, no es sencilla la votación de este Plenario con ese voto.Y yo estoy en contra de que este Parlamento se haya puesto para aprobar algo de la manera correcta, no es lo que aquí se ha metido en el tiempo en redes sociales como que el diputado Erick, esa es la forma correcta que hemos tenido que hacer.Porque uno no puede venir a parar, hay cosas que uno no puede venir a parar.El hecho de que el diputado Erick no se ha respetado con ese voto, ese voto se ha respetado al orden del día, para que tenga esa potestad porque este Parlamento ha estado…\n",
      "Sesión plenaria ordinaria N.º 56 del martes 22 de octubre de 2022Expediente N\n",
      ".º\n",
      "\n",
      "---\n",
      ">> Generated text 4\n",
      "\n",
      "En las últimas semanas hemos visitado varias zonas de Cartago y hemos visto el lamentable, por no decir vergonzoso, estado de las carreteras. Hablo de gente que debe lidiar con presas eternas, agricultores que se juegan la vida para sacar sus productos, de niños que no pueden llegar a tiempo a sus escuelas. Hablo de personas que se sienten olvidadas por sus gobiernos desde hace muchos años atrás. Hablo de personas que no quieren regresar a esta curul. Quiero decirles que es lamentable escuchar este llamado, la voz de las personas que están en las calles. Quiero decirles que todo esto es un llamado que la fracción del Partido Unidad Social Cristiana está aquí en el control político del Poder Ejecutivo desde hace poco.Quiero decirles a los costarricenses que, por favor, este servidor va a votar favorablemente esta moción. Quiero decirles a Restauración Nacional que en la Comisión de Guanacaste y en la fracción de Liberación Nacional, en la comisión especial y con toda claridad, estamos en una sesión del Directorio legislativo y no se trata de que así lo haga.No se trata de que aquí en Guanacaste los diputados o las diputadas podamos hablar más allá de su posición. Quiero recordarles a ustedes que este sentimiento viene a traer algo terrible en la provincia de Guanacaste. Quiero decirles, compañeros, que hoy las mujeres están en esta etapa, el día de hoy salen a trabajar a sus hogares, al día de hoy, a sus hogares. ¿Qué significa esto?, ¿qué significa esto?  Para que sepan que ellos tienen que escuchar eso y, por eso, esto es como la oportunidad que tenemos para que Guanacaste.La oportunidad que nosotros necesitamos es también darles las gracias a Puntarenas.  Gracias de Puntarenas, gracias de Puntarenas o Puntarenas.\n",
      "\n",
      "Contenido\n",
      " \n",
      " \\z \\u Sesión plenaria ordinaria N.º 7 del lunes 2 de mayo de 2019\n",
      " \n",
      " 2\n",
      "CONTROL POLÍTICO\n",
      " \n",
      " 2\n",
      "Sesión plenaria ordinaria N.º 9 del martes 26 de mayo de 2019 \n",
      " \n",
      "3\n",
      "CONTROL POLÍTICO\n",
      " \n",
      " 4Sesión plenaria ordinaria N.º 7 del l\n",
      "unes\n",
      "\n",
      "---\n",
      ">> Generated text 5\n",
      "\n",
      "En las últimas semanas hemos visitado varias zonas de Cartago y hemos visto el lamentable, por no decir vergonzoso, estado de las carreteras. Hablo de gente que debe lidiar con presas eternas, agricultores que se juegan la vida para sacar sus productos, de niños que no pueden llegar a tiempo a sus escuelas. Hablo de personas que se sienten olvidadas por sus gobiernos desde hace muchos años atrás. \n",
      "No me queda solo la duda que esta discusión viene dando un paso en las celebraciones que se requieren en nuestro país y que, como ya lo apuntaba don Carlos Ricardo Muñoz, de cada una de las vacunas de manera directa…Sesión plenaria extraordinaria N.º 33 del lunes 28 de julio de 2020Expediente N.° 21.903, Adición de un Párrafo y Adición de un Párrafo a la Asamblea para Reconocer y Garantizar los Derecho Humano a la Acceso a la Información de los pueblos Indígenas para Reconocer y Garantizar el Derecho Humano de Acceso a la Información de los pueblos IndígenasDiputada Nielsen Pérez Pérez:Gracias, presidenta.¿Y qué ha pasado en estos momentos, en este Plenario, una institución de la nación?, ¿qué ha hecho en estos momentos? ¿Qué ha pasado en estos momentos?  Porque hoy, cuando nosotros somos testigos de instituciones, no entendemos el impacto que tienen las instituciones del Estado y, por eso, en este momento, la Contraloría General de la República, en medio de una pandemia que lo trajo a la ciudadanía a través de esa circunstancia. El presupuesto a nombre del Congreso está en el presupuesto, en la Asamblea Legislativa en medio de una emergencia que está bastante ligado a las finanzas públicas.Y, bueno, la Contraloría nos ha permitido que se nos atienda la situación de las finanzas públicas y las situaciones donde en el presupuesto las instituciones del Estado se están invirtiendo recursos al Estado en la estructura pública, la estabilidad financiera, la sostenibilidad fiscal de la hacienda pública y del orden sanitaria que se han dado en el año 2018 y ahora se están invirtiendo en infraestructura.Por lo tanto, ha sido muy evidente en su parte, el Gobierno en\n",
      "\n",
      "---\n",
      ">> Generated text 6\n",
      "\n",
      "En las últimas semanas hemos visitado varias zonas de Cartago y hemos visto el lamentable, por no decir vergonzoso, estado de las carreteras. Hablo de gente que debe lidiar con presas eternas, agricultores que se juegan la vida para sacar sus productos, de niños que no pueden llegar a tiempo a sus escuelas. Hablo de personas que se sienten olvidadas por sus gobiernos desde hace muchos años atrás. Muchos de los empresarios que han estado a disposición diario en lo que son las aulas, muchos de los comerciantes que se hacen sin poder trabajar las condiciones adecuadas para poder llegar este último año. Pero más allá de la pandemia, hay un rezago de por ahí. Y eso tiene que ver necesariamente con la reactivación económica que estamos viviendo, con la generación de oportunidades.Una situación particular es una pandemia, una cantidad importante de personas y personas jóvenes, de las cuales muchas de estas familias también se están empezando, muchas de esas mujeres que en este último año ha existido mucha necesidad de tener la capacidad. \n",
      "Y en este tema es de importancia para esta pequeña y mediana empresa. La economía tenemos, la posibilidad de que el Estado siga teniendo confianza, la posibilidad de que esta industria costarricense pueda hacer más del seis por ciento del PIB, esto significa a los costarricenses que en este Gobierno no puede ni siquiera dejar de pagar la factura antes. Y eso significa a las mujeres que no podemos dejar de pagar las factura, estamos necesitando de manera decidida y de manera decidida una disminución de lo que ya se estableció.Pero en este proceso de reactivación económica, tenemos la posibilidad de que si el Gobierno ha sido un Gobierno irresponsable, bueno, el Gobierno no ha sido un gobierno irresponsable que no ha sido eficiente, que no ha sido eficiente para que un empresario pueda trabajar a sus hogares, a su familia, nos permitan no solamente tener una cantidad de empleos, sino también tener una inversión, que a su familia tenga una serie de posibilidades.Y nos parece sumamente necesario que se apruebe nuevamente este proyecto y nos evite que se les genere más empleo en las zonas rurales que\n",
      "\n",
      "---\n",
      ">> Generated text 7\n",
      "\n",
      "En las últimas semanas hemos visitado varias zonas de Cartago y hemos visto el lamentable, por no decir vergonzoso, estado de las carreteras. Hablo de gente que debe lidiar con presas eternas, agricultores que se juegan la vida para sacar sus productos, de niños que no pueden llegar a tiempo a sus escuelas. Hablo de personas que se sienten olvidadas por sus gobiernos desde hace muchos años atrás. Quiero aprovechar este tiempo para recordar el proceso de emergencias muy grande de esta emergencia y la labor de muchas municipalidades como \n",
      "Nate\n",
      ".He visto cómo las municipalidades vienen a generar más obras de infraestructura para resolver las emergencias de las carreteras. La planificación está en que no solamente ha habido obras y no solamente ha habido proyectos para resolver el problema de nuestros barrios y los bloqueos de los que no hemos podido avanzar.  Todos nos sentimos orgullosos de las banderas políticas y espero que sea de una vez por todas, en ese proceso de emergencias.Muchas gracias.\n",
      "Sesión plenaria ordinaria N.º 72 del jueves 19 de setiembre de 2019Control PolíticoDiputado Pablo Heriberto Abarca Mora:Gracias, diputada presidente.Yo les ruego a los compañeros que estén en la barra del público para que se tomen en cuenta nuestras luchas, pero los quiero invitar al diputado Welmer Ramos para que nos hagan escuchar que la decisión del Poder Ejecutivo no fuera la excepción a través del aborto.\n",
      "Y yo creo que a la hora de sesionar este día en las próximas semanas yo quisiera que de verdad se le haya ido al precipicio porque no solamente es difícil resolver el problema.  Estamos en un país mucho más alto en el mundo y en el mundo, no solamente es difícil resolver el problema del aborto, sino que también en el mundo para resolver el problema de no quitarle el aborto, como dice el Código Penal.  Una vez más, la mujer embarazada era madre.   Más bien es madre, es una mujer embarazada la que le dio el respeto y le dio la respeto a la vida.Porque los derechos laborales es una mujer víctima.  Con dolor y con una falta de respeto\n",
      "\n",
      "---\n",
      ">> Generated text 8\n",
      "\n",
      "En las últimas semanas hemos visitado varias zonas de Cartago y hemos visto el lamentable, por no decir vergonzoso, estado de las carreteras. Hablo de gente que debe lidiar con presas eternas, agricultores que se juegan la vida para sacar sus productos, de niños que no pueden llegar a tiempo a sus escuelas. Hablo de personas que se sienten olvidadas por sus gobiernos desde hace muchos años atrás.  Y no es una forma de abordar esto, pero sí es un mal discurso que tenemos de parte suya para los padres de familia que no saben ni que es una forma de fortalecer los servicios a la educación.  Y, claro, este proyecto de ley viene a subsanar la ineficiencia de la gente, pero que no se corrige por parte de la Dirección de Infraestructura, como es todo lo que ha hecho el MEP y este proyecto de ley viene a corregir las falencias que tiene el MEP en su presupuesto.Muchas gracias.\n",
      "\n",
      "Intervenciones diputada Alvarado Arias\n",
      " \n",
      " \\z \\u Sesión plenaria ordinaria N.º 28 del miércoles 20de julio de 2019 \n",
      " \n",
      "2POR EL ORDEN \n",
      " \n",
      "2\n",
      "Sesión plenaria ordinaria N.º 31 del martes 28 de julio de 2019 \n",
      " \n",
      "2\n",
      "CONTROL POLÍTICO \n",
      " \n",
      "3Sesión plenaria ordinaria N.º 28 del miércoles 20de julio de 2019 \n",
      " \n",
      "4\n",
      "EXPEDIENTE N.º 21.163, LEY DE ESTRUCTURACIÓN Y REFORMA DE LA LEY DEL FONDO DE DESARROLLO DE LA PROVINCIA DE LIMÓN (FODELI) \n",
      " \n",
      "4\n",
      "Sesión plenaria extraordinaria N.º 29 del miércoles 20 de julio de 2019 \n",
      " \n",
      "6\n",
      "EXPEDIENTE N.º 21.163, LEY DE ESTRUCTURACIÓN Y REFORMA DE LA LEY DEL FONDO DE DESARROLLO DE LA PROVINCIA DE LIMÓN ( LIMÓN) \n",
      " \n",
      "6\n",
      "Sesión plenaria ordinaria N.º 28 del miércoles 20 de julio de 2019\n",
      "POR EL ORDEN\n",
      "Diputado David Gourzong Cerdas:Gracias, compañeras, compañeros.Voy a retomar unas palabras muy acerca de la forma de utilizar un tema que es importantísimo en todos los ámbitos del Estado que tenemos\n",
      "\n",
      "---\n",
      ">> Generated text 9\n",
      "\n",
      "En las últimas semanas hemos visitado varias zonas de Cartago y hemos visto el lamentable, por no decir vergonzoso, estado de las carreteras. Hablo de gente que debe lidiar con presas eternas, agricultores que se juegan la vida para sacar sus productos, de niños que no pueden llegar a tiempo a sus escuelas. Hablo de personas que se sienten olvidadas por sus gobiernos desde hace muchos años atrás. Tengo una visita que no sé si es un cantón de \n",
      "Upala\n",
      ", eso, pero estoy segura que la semana pasada, inclusive, la \n",
      "Upala\n",
      " y los otros \n",
      "Upala\n",
      " están totalmente olvidadas y sufren por una situación de las presas en todo el país.Necesitamos de verdad llamar un ejemplo al nuevo cantón, que en esta ocasión hay cantones y la infraestructura vial tiene que hacerlo.El abandono, porque no están cerca de treinta años, y no hay una disminución en el precio nacional, hay aproximadamente setenta y un mil personas que se encuentran vinculadas a los comercios del pasado.Hoy los estamos acompañando en los últimos noventa años. La problemática me preocupa porque se han visto en los últimos cuarenta años, no el país está viendo a una provincia muy grande, y no se ha visto a una provincia de Guanacaste.Es por esta razón, es el tema de transporte de zonas rurales y del sector agropecuario, y esto tiene que ver con la parte del café, la apertura y la capacidad para poder implementar una economía local. La infraestructura turística es vital para la provincia de Limón. \n",
      "Debemos mencionar lo que está pasando en el puerto, y también de forma natural y es el tema de la exportación. El costo de la vida, de la exportación, no está contemplado, se ha limitado una inversión, un crecimiento también en el Valle Central o una inversión.\n",
      "Una vez, compañeros, cada provincia se ha puesto sin posibilidad de hacer algunas cosas. Como ya se ha mencionado, la economía produce empleo, produce acceso a una serie de campos, pero no se ha visto afectada.La inversión es para la provincia\n",
      "\n",
      "---\n",
      ">> Generated text 10\n",
      "\n",
      "En las últimas semanas hemos visitado varias zonas de Cartago y hemos visto el lamentable, por no decir vergonzoso, estado de las carreteras. Hablo de gente que debe lidiar con presas eternas, agricultores que se juegan la vida para sacar sus productos, de niños que no pueden llegar a tiempo a sus escuelas. Hablo de personas que se sienten olvidadas por sus gobiernos desde hace muchos años atrás. Pero yo creo que hoy estamos en una situación muy difícil que debemos empezar a planificar y a tomar la decisión que tomemos.Yo me siento absolutamente orgulloso, hoy, que hoy, por lo menos en la lógica que pueda ser el país para sacar de la producción nacional y que podamos, realmente, resolver absolutamente nada o absolutamente nada. Espero yo que, por favor, apoyen esta iniciativa que va a ser ley de la República que hoy aprobamos.Muchas gracias, señora presidenta.\n",
      "Sesión plenaria ordinaria N.º 43 del miércoles 22 de julio de 2021\n",
      "INFORME ANUAL DE LABORES DE LA DEFENSORÍA DE LOS HABITANTES, CORRESPONDIENTE AL PERÍODO 2018-2019\n",
      "Diputado Rodolfo Peña Flores:Muy buenas tardes, señor presidente, muy buenas tardes, compañeros y compañeras diputadas.Ciertamente a pesar de que se han manifestado varias compañeras y compañeros que han presentado esta moción, he votado a favor la moción de posposición que fue aprobada por las y los diputados y diputadas en el Plenario.Realmente, hoy en estos días llegamos acá a acuerdos es algo que el Reglamento lo hará como debe suceder, porque si no es así en el transcurso del tiempo que tendremos que votar, como es el Reglamento de que sea convocado por el Plenario, yo hago un llamado respetuoso para que este proyecto de ley sea aprobada o que sea aprobado por la comisión que estamos discutiendo.Estamos totalmente de acuerdo con que se apruebe esta moción en un momento para que el pleno pleno y  toda una sesión que va a votar sea votado por la \n",
      "Comisión de Nombramientos simplemente es una oportunidad para el ejercicio, es una oportunidad para la ciudadanía en el transcurso del tiempo que tenemos todos los costarricenses que estamos votando por este\n",
      "\n",
      "---\n"
     ]
    }
   ],
   "source": [
    "for i, sample_output in enumerate(textos):\n",
    "    salida_texto = tokenizer_diputados.decode(sample_output.tolist())\n",
    "    print(\">> Generated text {}\\n\\n{}\".format(i+1, salida_texto))\n",
    "    seq = random.randint(0,100000)\n",
    "#     with open('/content/textos/ejemplo_diputado_'+str(seq)+'.txt','w') as f:\n",
    "#       f.write(salida_texto)\n",
    "    print('\\n---')"
   ]
  },
  {
   "cell_type": "markdown",
   "id": "f82cfca3",
   "metadata": {},
   "source": [
    "# Tratando con Learner"
   ]
  },
  {
   "cell_type": "code",
   "execution_count": null,
   "id": "558d9cc1",
   "metadata": {},
   "outputs": [],
   "source": [
    "def splitter(model):\n",
    "    \n",
    "    modules = []\n",
    "    for i in range(4): modules.append(model.transformer.h[i])\n",
    "    groups = [nn.Sequential(*modules)]\n",
    "\n",
    "    modules = []\n",
    "    for i in range(4,8,1): modules.append(model.transformer.h[i])\n",
    "    groups = L(groups + [nn.Sequential(*modules)])\n",
    "\n",
    "    modules = []\n",
    "    for i in range(8,12,1): modules.append(model.transformer.h[i])\n",
    "    groups = L(groups + [nn.Sequential(*modules)])\n",
    "    \n",
    "\n",
    "    groups = L(groups +    [nn.Sequential(model.transformer.wte,model.transformer.wpe,model.transformer.ln_f)])\n",
    "    \n",
    "    return groups.map(params)\n",
    "\n",
    "class DropOutput(Callback):\n",
    "    def after_pred(self): self.learn.pred = self.pred[0]\n",
    "\n",
    "class TransformersTokenizer(Transform):\n",
    "    def __init__(self, tokenizer): self.tokenizer = tokenizer\n",
    "    def encodes(self, x): \n",
    "        toks = self.tokenizer.tokenize(x)\n",
    "        return tensor(self.tokenizer.convert_tokens_to_ids(toks))\n",
    "    def decodes(self, x): return TitledStr(self.tokenizer.decode(x.cpu().numpy()))\n",
    "        \n",
    "df = pd.read_csv('./model/diputados.csv')\n",
    "df.dropna()\n",
    "print(len(df))\n",
    "dfl = df[0:2000]['text'].tolist()\n",
    "print(len(dfl))\n",
    "        \n",
    "num = int(0.8*len(df)) # 80% para entrenamiento\n",
    "idxs = np.random.randint(0, len(dfl), len(dfl))\n",
    "idxs_train = idxs[:num]\n",
    "idxs_val = idxs[num:]\n",
    "# We gather all texts in one numpy array \n",
    "# (since it will be easier to use this way with fastai)\n",
    "# all_texts = np.concatenate([dfl.iloc[idxs_train], dfl.iloc[idxs_val]])\n",
    "all_texts = np.concatenate([dfl[:num],dfl[num:]])\n",
    "# all_texts = np.concatenate([df.iloc[idxs_train].text.astype(str).values.to_list(), \n",
    "#                             df.iloc[idxs_val].text.astype(str).values.to_list()])\n",
    "splits = [list(idxs_train), list(idxs_val)]\n",
    "tls = TfmdLists(all_texts, TransformersTokenizer(tokenizer_diputados), splits=splits, dl_type=LMDataLoader)\n",
    "        \n",
    "bs,sl = 4,1024\n",
    "dls = tls.dataloaders(bs=bs, seq_len=sl)"
   ]
  },
  {
   "cell_type": "code",
   "execution_count": null,
   "id": "ef55a01a",
   "metadata": {},
   "outputs": [],
   "source": [
    "# Tratando con Learner...\n",
    "from fastai.text.all import *\n",
    "\n",
    "learn = Learner(dls, model_diputados, loss_func=CrossEntropyLossFlat(),\n",
    "                splitter = splitter,\n",
    "                cbs=[DropOutput], \n",
    "                metrics=[accuracy, Perplexity()]).to_fp16()\n",
    "learn = learn.load('./modelo_diputados/GPT2_dp_5epoch')\n",
    "\n",
    "gpt2_small_diputados = learn.model"
   ]
  },
  {
   "cell_type": "code",
   "execution_count": null,
   "id": "5f5a8e92",
   "metadata": {},
   "outputs": [],
   "source": []
  },
  {
   "cell_type": "code",
   "execution_count": null,
   "id": "f84a7010",
   "metadata": {},
   "outputs": [],
   "source": [
    "text = 'En las últimas semanas hemos visitado varias zonas de Cartago y hemos visto el lamentable, por no decir vergonzoso, estado de las carreteras. Hablo de gente que debe lidiar con presas eternas, agricultores que se juegan la vida para sacar sus productos, de niños que no pueden llegar a tiempo a sus escuelas. Hablo de personas que se sienten olvidadas por sus gobiernos desde hace muchos años atrás.'\n",
    "input_ids = tokenizer_diputados.encode(text, return_tensors=\"pt\").to('mps')\n",
    "print(input_ids.shape)\n",
    "max_length = input_ids.shape[1]\n",
    "flat_input_ids = torch.flatten(input_ids,start_dim = 1)\n",
    "print(flat_input_ids.shape)\n",
    "\n",
    "print(max_length)"
   ]
  },
  {
   "cell_type": "code",
   "execution_count": null,
   "id": "033f3080",
   "metadata": {},
   "outputs": [],
   "source": [
    "\n",
    "textos = gpt2_small_diputados.generate(flat_input_ids, pad_token_id=50256,\n",
    "                                   do_sample=True, \n",
    "                                   max_length=400, \n",
    "                                   min_length=400,\n",
    "                                   top_k=50,\n",
    "                                   num_return_sequences=10)"
   ]
  },
  {
   "cell_type": "code",
   "execution_count": null,
   "id": "f14e85ea",
   "metadata": {},
   "outputs": [],
   "source": []
  }
 ],
 "metadata": {
  "kernelspec": {
   "display_name": "Python 3 (ipykernel)",
   "language": "python",
   "name": "python3"
  },
  "language_info": {
   "codemirror_mode": {
    "name": "ipython",
    "version": 3
   },
   "file_extension": ".py",
   "mimetype": "text/x-python",
   "name": "python",
   "nbconvert_exporter": "python",
   "pygments_lexer": "ipython3",
   "version": "3.8.13"
  }
 },
 "nbformat": 4,
 "nbformat_minor": 5
}
